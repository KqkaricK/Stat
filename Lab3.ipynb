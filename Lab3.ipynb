{
  "cells": [
    {
      "cell_type": "markdown",
      "metadata": {
        "id": "view-in-github",
        "colab_type": "text"
      },
      "source": [
        "<a href=\"https://colab.research.google.com/github/KqkaricK/Stat/blob/main/Lab3.ipynb\" target=\"_parent\"><img src=\"https://colab.research.google.com/assets/colab-badge.svg\" alt=\"Open In Colab\"/></a>"
      ]
    },
    {
      "cell_type": "markdown",
      "metadata": {
        "id": "fxa8YXJIljPg"
      },
      "source": [
        "## HW\n"
      ]
    },
    {
      "cell_type": "markdown",
      "metadata": {
        "id": "SvEVUjYjljPi"
      },
      "source": [
        "Датасет содержит в себе данные работников, сколько им лет, департамент, образование и т.д.\n",
        "\n",
        "**Расшифровка по значениям:**\n",
        "- Education - Образование (1='Below College', 2='College', 3='Bachelor', 4='Master', 5='Doctor')\n",
        "\n",
        "- EnvironmentSatisfaction - Удовлетворенность окружающей средой (1='Low', 2='Medium', 3='High', 4='Very High')\n",
        "\n",
        "- JobInvolvement - Вовлеченность в работу (1='Low', 2='Medium', 3='High', 4='Very High')\n",
        "\n",
        "- JobSatisfaction - Удовлетворенность работой (1='Low', 2='Medium', 3='High', 4='Very High')\n",
        "\n",
        "- PerformanceRating - Рейтинг производительности (1='Low', 2='Good', 3='Excellent', 4='Outstanding')\n",
        "\n",
        "- RelationshipSatisfaction - Удовлетворенность отношениями (1='Low', 2='Medium', 3='High', 4='Very High')\n",
        "\n",
        "- WorkLifeBalance - Баланс между работой и личной жизнью (1='Bad', 2='Good', 3='Better', 4='Best')"
      ]
    },
    {
      "cell_type": "markdown",
      "metadata": {
        "id": "lER6ywSwljPi"
      },
      "source": [
        "### HW. Блок Pandas. Задача 1\n",
        "\n",
        "- Вам дан датасет **hr-analysis-prediction.csv**\n",
        "- Импортируйте pandas и напишите краткий алиас **pd**\n",
        "- Прочитайте датасет hr-analysis-prediction.csv и запишите его в виде DataFrame в переменную **df**\n",
        "- Представьте, что датасет лежит в той же папке, что и ваш код."
      ]
    },
    {
      "cell_type": "code",
      "execution_count": null,
      "metadata": {
        "id": "FoZ5jrToljPj",
        "outputId": "6cf12592-3fc8-4f1d-f471-1ef1860aa903"
      },
      "outputs": [
        {
          "name": "stdout",
          "output_type": "stream",
          "text": [
            "      Age Attrition     BusinessTravel  DailyRate              Department  \\\n",
            "0      41       Yes      Travel_Rarely       1102                   Sales   \n",
            "1      49        No  Travel_Frequently        279  Research & Development   \n",
            "2      37       Yes      Travel_Rarely       1373  Research & Development   \n",
            "3      33        No  Travel_Frequently       1392  Research & Development   \n",
            "4      27        No      Travel_Rarely        591  Research & Development   \n",
            "...   ...       ...                ...        ...                     ...   \n",
            "1465   36        No  Travel_Frequently        884  Research & Development   \n",
            "1466   39        No      Travel_Rarely        613  Research & Development   \n",
            "1467   27        No      Travel_Rarely        155  Research & Development   \n",
            "1468   49        No  Travel_Frequently       1023                   Sales   \n",
            "1469   34        No      Travel_Rarely        628  Research & Development   \n",
            "\n",
            "      DistanceFromHome  Education EducationField  EmployeeCount  \\\n",
            "0                    1        2.0  Life Sciences              1   \n",
            "1                    8        1.0  Life Sciences              1   \n",
            "2                    2        NaN          Other              1   \n",
            "3                    3        4.0  Life Sciences              1   \n",
            "4                    2        1.0        Medical              1   \n",
            "...                ...        ...            ...            ...   \n",
            "1465                23        2.0        Medical              1   \n",
            "1466                 6        1.0        Medical              1   \n",
            "1467                 4        3.0  Life Sciences              1   \n",
            "1468                 2        3.0        Medical              1   \n",
            "1469                 8        3.0        Medical              1   \n",
            "\n",
            "      EmployeeNumber  ...  RelationshipSatisfaction StandardHours  \\\n",
            "0                  1  ...                         1            80   \n",
            "1                  2  ...                         4            80   \n",
            "2                  4  ...                         2            80   \n",
            "3                  5  ...                         3            80   \n",
            "4                  7  ...                         4            80   \n",
            "...              ...  ...                       ...           ...   \n",
            "1465            2061  ...                         3            80   \n",
            "1466            2062  ...                         1            80   \n",
            "1467            2064  ...                         2            80   \n",
            "1468            2065  ...                         4            80   \n",
            "1469            2068  ...                         1            80   \n",
            "\n",
            "      StockOptionLevel  TotalWorkingYears  TrainingTimesLastYear  \\\n",
            "0                    0                8.0                      0   \n",
            "1                    1               10.0                      3   \n",
            "2                    0                7.0                      3   \n",
            "3                    0                8.0                      3   \n",
            "4                    1                6.0                      3   \n",
            "...                ...                ...                    ...   \n",
            "1465                 1               17.0                      3   \n",
            "1466                 1                9.0                      5   \n",
            "1467                 1                6.0                      0   \n",
            "1468                 0               17.0                      3   \n",
            "1469                 0                6.0                      3   \n",
            "\n",
            "     WorkLifeBalance  YearsAtCompany YearsInCurrentRole  \\\n",
            "0                  1               6                  4   \n",
            "1                  3              10                  7   \n",
            "2                  3               0                  0   \n",
            "3                  3               8                  7   \n",
            "4                  3               2                  2   \n",
            "...              ...             ...                ...   \n",
            "1465               3               5                  2   \n",
            "1466               3               7                  7   \n",
            "1467               3               6                  2   \n",
            "1468               2               9                  6   \n",
            "1469               4               4                  3   \n",
            "\n",
            "      YearsSinceLastPromotion  YearsWithCurrManager  \n",
            "0                           0                     5  \n",
            "1                           1                     7  \n",
            "2                           0                     0  \n",
            "3                           3                     0  \n",
            "4                           2                     2  \n",
            "...                       ...                   ...  \n",
            "1465                        0                     3  \n",
            "1466                        1                     7  \n",
            "1467                        0                     3  \n",
            "1468                        0                     8  \n",
            "1469                        1                     2  \n",
            "\n",
            "[1470 rows x 35 columns]\n"
          ]
        }
      ],
      "source": [
        "# ваш код\n",
        "import pandas as pd\n",
        "df = pd.read_csv('hr-analysis-prediction.csv')\n",
        "print(df)"
      ]
    },
    {
      "cell_type": "markdown",
      "metadata": {
        "id": "4qiIV95xljPk"
      },
      "source": [
        "### HW. Блок Pandas. Задача 2\n",
        "\n",
        "- Вам дан датасет **hr-analysis-prediction.csv**\n",
        "- Пусть ваш датасет уже записан в переменную **df** из прошлого задания (заново прописывать не нужно)\n",
        "- Создайте переменную **result_1** и присвойте ей использование метода из pandas с выводом информации о датасете **df**: типы данных по каждому столбцу, а также пропуски при помощи **ОДНОГО метода**.\n",
        "- Создайте переменную **result_2** и присвойте ей использование метода из pandas с выводом информации только о размере датасете **df** (должен быть тип tuple)"
      ]
    },
    {
      "cell_type": "code",
      "execution_count": null,
      "metadata": {
        "scrolled": true,
        "id": "9F9K8jualjPl",
        "outputId": "402a1646-7c2f-4b9d-813d-8e03d656363d"
      },
      "outputs": [
        {
          "name": "stdout",
          "output_type": "stream",
          "text": [
            "<class 'pandas.core.frame.DataFrame'>\n",
            "RangeIndex: 1470 entries, 0 to 1469\n",
            "Data columns (total 35 columns):\n",
            " #   Column                    Non-Null Count  Dtype  \n",
            "---  ------                    --------------  -----  \n",
            " 0   Age                       1470 non-null   int64  \n",
            " 1   Attrition                 1470 non-null   object \n",
            " 2   BusinessTravel            1470 non-null   object \n",
            " 3   DailyRate                 1470 non-null   int64  \n",
            " 4   Department                1464 non-null   object \n",
            " 5   DistanceFromHome          1470 non-null   int64  \n",
            " 6   Education                 1328 non-null   float64\n",
            " 7   EducationField            1470 non-null   object \n",
            " 8   EmployeeCount             1470 non-null   int64  \n",
            " 9   EmployeeNumber            1470 non-null   int64  \n",
            " 10  EnvironmentSatisfaction   1470 non-null   int64  \n",
            " 11  Gender                    1470 non-null   object \n",
            " 12  HourlyRate                1470 non-null   int64  \n",
            " 13  JobInvolvement            1470 non-null   int64  \n",
            " 14  JobLevel                  1470 non-null   int64  \n",
            " 15  JobRole                   1470 non-null   object \n",
            " 16  JobSatisfaction           1470 non-null   int64  \n",
            " 17  MaritalStatus             1470 non-null   object \n",
            " 18  MonthlyIncome             1470 non-null   int64  \n",
            " 19  MonthlyRate               1470 non-null   int64  \n",
            " 20  NumCompaniesWorked        1470 non-null   int64  \n",
            " 21  Over18                    1470 non-null   object \n",
            " 22  OverTime                  1470 non-null   object \n",
            " 23  PercentSalaryHike         1470 non-null   int64  \n",
            " 24  PerformanceRating         1470 non-null   int64  \n",
            " 25  RelationshipSatisfaction  1470 non-null   int64  \n",
            " 26  StandardHours             1470 non-null   int64  \n",
            " 27  StockOptionLevel          1470 non-null   int64  \n",
            " 28  TotalWorkingYears         1429 non-null   float64\n",
            " 29  TrainingTimesLastYear     1470 non-null   int64  \n",
            " 30  WorkLifeBalance           1470 non-null   int64  \n",
            " 31  YearsAtCompany            1470 non-null   int64  \n",
            " 32  YearsInCurrentRole        1470 non-null   int64  \n",
            " 33  YearsSinceLastPromotion   1470 non-null   int64  \n",
            " 34  YearsWithCurrManager      1470 non-null   int64  \n",
            "dtypes: float64(2), int64(24), object(9)\n",
            "memory usage: 402.1+ KB\n",
            "(1470, 35)\n"
          ]
        }
      ],
      "source": [
        "# ваш код\n",
        "result_1 = df.info()\n",
        "result_2 = df.shape\n",
        "print(result_2)"
      ]
    },
    {
      "cell_type": "markdown",
      "metadata": {
        "id": "ip7kLPnLljPl"
      },
      "source": [
        "### HW. Блок Pandas. Задача 3\n",
        "\n",
        "- Вам дан датасет **hr-analysis-prediction.csv**\n",
        "- Пусть ваш датасет уже записан в переменную **df** (заново прописывать не нужно)\n",
        "- Создайте переменную **median_daily** и присвойте ей значение медианы признака **DailyRate** из датасета **df** (должен быть тип float)\n",
        "- Создайте переменную **median_distance** и присвойте ей значение медианы признака **DistanceFromHome** из датасета **df** (должен быть тип float)\n",
        "- Создайте переменную **median_monthly** и присвойте ей значение медианы признака **MonthlyIncome** из датасета **df** (должен быть тип float)\n",
        "- Создайте переменную **mean_income** и присвойте ей значение среднего размера зарплаты (признак **MonthlyIncome**) для работников из департамента **Human Resources**. Департамент - признак **Department** (должен быть тип float)"
      ]
    },
    {
      "cell_type": "code",
      "execution_count": null,
      "metadata": {
        "id": "BdwVb1xyljPl",
        "outputId": "9738deee-541f-43ce-e0a1-70a463b3eb52"
      },
      "outputs": [
        {
          "name": "stdout",
          "output_type": "stream",
          "text": [
            "median_daily: 802.0\n",
            "median_distance: 7.0\n",
            "median_monthly: 4919.0\n",
            "mean_income: 6654.507936507936\n"
          ]
        }
      ],
      "source": [
        "# ваш код\n",
        "median_daily = df['DailyRate'].median()\n",
        "median_distance = df['DistanceFromHome'].median()\n",
        "median_monthly = df['MonthlyIncome'].median()\n",
        "mean_income = df[df['Department'] == 'Human Resources']['MonthlyIncome'].mean()\n",
        "print(\"median_daily:\", median_daily)\n",
        "print(\"median_distance:\", median_distance)\n",
        "print(\"median_monthly:\", median_monthly)\n",
        "print(\"mean_income:\", mean_income)"
      ]
    },
    {
      "cell_type": "markdown",
      "metadata": {
        "id": "wayktxoYljPm"
      },
      "source": [
        "### HW. Блок Pandas. Задача 4\n",
        "\n",
        "- Вам дан датасет **hr-analysis-prediction.csv**\n",
        "- Пусть ваш датасет уже записан в переменную **df** (заново прописывать не нужно)\n",
        "- Создайте переменную **median_group**\n",
        "- Присвойте переменной **median_group** результат группировки датасета **df** по полям **Department** и **EducationField**, в качестве функции агрегации выберите медиану по полям **Age** и **DistanceFromHome** (должен быть тип DataFrame)"
      ]
    },
    {
      "cell_type": "code",
      "execution_count": null,
      "metadata": {
        "id": "lrK4lTgaljPm",
        "outputId": "3748892d-1ed7-44bf-ca72-536a4975dca5"
      },
      "outputs": [
        {
          "name": "stdout",
          "output_type": "stream",
          "text": [
            "                                          Age  DistanceFromHome\n",
            "Department             EducationField                          \n",
            "Human Resources        Human Resources   36.0               6.0\n",
            "                       Life Sciences     41.0               4.5\n",
            "                       Medical           42.0               6.0\n",
            "                       Other             37.0               8.0\n",
            "                       Technical Degree  34.5               5.0\n",
            "Research & Development Life Sciences     36.0               7.0\n",
            "                       Medical           36.0               7.0\n",
            "                       Other             35.5               7.5\n",
            "                       Technical Degree  35.5               5.0\n",
            "Sales                  Life Sciences     36.0               7.0\n",
            "                       Marketing         36.0               8.0\n",
            "                       Medical           34.0               6.0\n",
            "                       Other             31.0               5.0\n",
            "                       Technical Degree  33.0               8.0\n"
          ]
        }
      ],
      "source": [
        "# ваш код\n",
        "median_group = df.groupby(['Department', 'EducationField'])[['Age', 'DistanceFromHome']].median()\n",
        "print(median_group)"
      ]
    },
    {
      "cell_type": "markdown",
      "metadata": {
        "id": "KPBfQVwoljPm"
      },
      "source": [
        "### HW. Блок Pandas. Задача 5\n",
        "\n",
        "\n",
        "- Вам дан датасет **hr-analysis-prediction.csv**\n",
        "- Пусть ваш датасет уже записан в переменную **df** (заново прописывать не нужно)\n",
        "- Создайте переменную **median_group**\n",
        "- Присвойте переменной **median_group** результат группировки датасета **df** по полям **Department, EducationField** и **Attrition**, в качестве функции агрегации выберите медиану по полю **MonthlyIncome** (должен быть тип DataFrame)"
      ]
    },
    {
      "cell_type": "code",
      "execution_count": null,
      "metadata": {
        "scrolled": true,
        "id": "uv-ZFDQWljPm",
        "outputId": "4cd4c700-fdc3-40fb-eeda-619a9298684f"
      },
      "outputs": [
        {
          "name": "stdout",
          "output_type": "stream",
          "text": [
            "                                                   MonthlyIncome\n",
            "Department             EducationField   Attrition               \n",
            "Human Resources        Human Resources  No                6212.0\n",
            "                                        Yes               2335.0\n",
            "                       Life Sciences    No                4490.0\n",
            "                                        Yes               2741.0\n",
            "                       Medical          No                4936.0\n",
            "                                        Yes               6315.0\n",
            "                       Other            No                4071.0\n",
            "                       Technical Degree No                3509.5\n",
            "                                        Yes               2653.0\n",
            "Research & Development Life Sciences    No                4768.5\n",
            "                                        Yes               2725.0\n",
            "                       Medical          No                4722.0\n",
            "                                        Yes               3388.0\n",
            "                       Other            No                4107.0\n",
            "                                        Yes               2693.0\n",
            "                       Technical Degree No                4538.0\n",
            "                                        Yes               2601.5\n",
            "Sales                  Life Sciences    No                6120.0\n",
            "                                        Yes               6172.0\n",
            "                       Marketing        No                6180.0\n",
            "                                        Yes               5744.0\n",
            "                       Medical          No                5583.0\n",
            "                                        Yes               4784.0\n",
            "                       Other            No                4999.0\n",
            "                                        Yes               4644.0\n",
            "                       Technical Degree No                6604.5\n",
            "                                        Yes               3055.5\n"
          ]
        }
      ],
      "source": [
        "# ваш код\n",
        "median_group = df.groupby(['Department', 'EducationField', 'Attrition'])['MonthlyIncome'].median().to_frame()\n",
        "print(median_group)"
      ]
    },
    {
      "cell_type": "markdown",
      "metadata": {
        "id": "WybI5UqsljPn"
      },
      "source": [
        "### HW. Блок Pandas. Задача 6\n",
        "\n",
        "\n",
        "- Вам дан датасет **hr-analysis-prediction.csv**\n",
        "- Пусть ваш датасет уже записан в переменную **df** (заново прописывать не нужно)\n",
        "- Создайте переменную **fill_data**\n",
        "- Присвойте переменной **fill_data** результат заполнения датасета **df** **модой** (для каждого признака должно быть свое значение моды)\n",
        "- Так как может быть несколько мод у тех или иных признаков, возьмите моду с индексом 0 (то есть первое попавшееся значение)\n",
        "- По итогу переменная **fill_data** должна иметь тип DataFrame (по сути заполненный df)"
      ]
    },
    {
      "cell_type": "code",
      "execution_count": null,
      "metadata": {
        "id": "t3OTJyLDljPn",
        "outputId": "f196ea68-adc0-4bc4-eba0-7e3d873d3f1d"
      },
      "outputs": [
        {
          "name": "stdout",
          "output_type": "stream",
          "text": [
            "      Age Attrition     BusinessTravel  DailyRate              Department  \\\n",
            "0      41       Yes      Travel_Rarely       1102                   Sales   \n",
            "1      49        No  Travel_Frequently        279  Research & Development   \n",
            "2      37       Yes      Travel_Rarely       1373  Research & Development   \n",
            "3      33        No  Travel_Frequently       1392  Research & Development   \n",
            "4      27        No      Travel_Rarely        591  Research & Development   \n",
            "...   ...       ...                ...        ...                     ...   \n",
            "1465   36        No  Travel_Frequently        884  Research & Development   \n",
            "1466   39        No      Travel_Rarely        613  Research & Development   \n",
            "1467   27        No      Travel_Rarely        155  Research & Development   \n",
            "1468   49        No  Travel_Frequently       1023                   Sales   \n",
            "1469   34        No      Travel_Rarely        628  Research & Development   \n",
            "\n",
            "      DistanceFromHome  Education EducationField  EmployeeCount  \\\n",
            "0                    1        2.0  Life Sciences              1   \n",
            "1                    8        1.0  Life Sciences              1   \n",
            "2                    2        3.0          Other              1   \n",
            "3                    3        4.0  Life Sciences              1   \n",
            "4                    2        1.0        Medical              1   \n",
            "...                ...        ...            ...            ...   \n",
            "1465                23        2.0        Medical              1   \n",
            "1466                 6        1.0        Medical              1   \n",
            "1467                 4        3.0  Life Sciences              1   \n",
            "1468                 2        3.0        Medical              1   \n",
            "1469                 8        3.0        Medical              1   \n",
            "\n",
            "      EmployeeNumber  ...  RelationshipSatisfaction StandardHours  \\\n",
            "0                  1  ...                         1            80   \n",
            "1                  2  ...                         4            80   \n",
            "2                  4  ...                         2            80   \n",
            "3                  5  ...                         3            80   \n",
            "4                  7  ...                         4            80   \n",
            "...              ...  ...                       ...           ...   \n",
            "1465            2061  ...                         3            80   \n",
            "1466            2062  ...                         1            80   \n",
            "1467            2064  ...                         2            80   \n",
            "1468            2065  ...                         4            80   \n",
            "1469            2068  ...                         1            80   \n",
            "\n",
            "      StockOptionLevel  TotalWorkingYears  TrainingTimesLastYear  \\\n",
            "0                    0                8.0                      0   \n",
            "1                    1               10.0                      3   \n",
            "2                    0                7.0                      3   \n",
            "3                    0                8.0                      3   \n",
            "4                    1                6.0                      3   \n",
            "...                ...                ...                    ...   \n",
            "1465                 1               17.0                      3   \n",
            "1466                 1                9.0                      5   \n",
            "1467                 1                6.0                      0   \n",
            "1468                 0               17.0                      3   \n",
            "1469                 0                6.0                      3   \n",
            "\n",
            "     WorkLifeBalance  YearsAtCompany YearsInCurrentRole  \\\n",
            "0                  1               6                  4   \n",
            "1                  3              10                  7   \n",
            "2                  3               0                  0   \n",
            "3                  3               8                  7   \n",
            "4                  3               2                  2   \n",
            "...              ...             ...                ...   \n",
            "1465               3               5                  2   \n",
            "1466               3               7                  7   \n",
            "1467               3               6                  2   \n",
            "1468               2               9                  6   \n",
            "1469               4               4                  3   \n",
            "\n",
            "      YearsSinceLastPromotion  YearsWithCurrManager  \n",
            "0                           0                     5  \n",
            "1                           1                     7  \n",
            "2                           0                     0  \n",
            "3                           3                     0  \n",
            "4                           2                     2  \n",
            "...                       ...                   ...  \n",
            "1465                        0                     3  \n",
            "1466                        1                     7  \n",
            "1467                        0                     3  \n",
            "1468                        0                     8  \n",
            "1469                        1                     2  \n",
            "\n",
            "[1470 rows x 35 columns]\n"
          ]
        }
      ],
      "source": [
        "# ваш код\n",
        "fill_data = df.fillna(df.mode().iloc[0])\n",
        "print(fill_data)"
      ]
    },
    {
      "cell_type": "markdown",
      "metadata": {
        "id": "mkxLeHH8ljPn"
      },
      "source": [
        "### HW. Блок Pandas. Задача 7\n",
        "\n",
        "\n",
        "- Вам дан датасет **hr-analysis-prediction.csv**\n",
        "- Импортируйте pandas и напишите краткий алиас **pd**\n",
        "- Прочитайте датасет hr-analysis-prediction.csv и запишите его в виде DataFrame в переменную **df**- Представьте, что датасет лежит в той же папке, что и ваш код\n",
        "- Создайте переменную **dict_education**, куда запишите словарь (ключ тип int, значение тип str) с соответвующими значениями признака **Education**:\n",
        "    - **1** соответсвует значению **Below College**\n",
        "    - **2** соответсвует значению **College**\n",
        "    - **3** соответсвует значению **Bachelor**\n",
        "    - **4** соответсвует значению **Master**\n",
        "    - **5** соответсвует значению **Doctor**\n",
        "- Испольуя словарь **dict_education** произведите замену значений в признаке **Education**\n",
        "- Чтобы в переменной **df** в признаке **Education** произошла замена, сделайте присваивание:\n",
        "\n",
        "```python\n",
        "df.Education = # ваш код\"\n",
        "```"
      ]
    },
    {
      "cell_type": "code",
      "execution_count": null,
      "metadata": {
        "id": "emk5OOysljPo",
        "outputId": "14af93f9-242b-44d0-d600-b796640b4f4d"
      },
      "outputs": [
        {
          "name": "stdout",
          "output_type": "stream",
          "text": [
            "0             College\n",
            "1       Below College\n",
            "2                 NaN\n",
            "3              Master\n",
            "4       Below College\n",
            "            ...      \n",
            "1465          College\n",
            "1466    Below College\n",
            "1467         Bachelor\n",
            "1468         Bachelor\n",
            "1469         Bachelor\n",
            "Name: Education, Length: 1470, dtype: object\n"
          ]
        }
      ],
      "source": [
        "# ваш код\n",
        "import pandas as pd\n",
        "df = pd.read_csv('hr-analysis-prediction.csv')\n",
        "dict_education = {\n",
        "    1: 'Below College',\n",
        "    2: 'College',\n",
        "    3: 'Bachelor',\n",
        "    4: 'Master',\n",
        "    5: 'Doctor'\n",
        "}\n",
        "df.Education = df['Education'].map(dict_education)\n",
        "print(df.Education)\n"
      ]
    },
    {
      "cell_type": "markdown",
      "metadata": {
        "id": "ULFzIAkgljPo"
      },
      "source": [
        "### HW. Блок Pandas. Задача 8\n",
        "\n",
        "- Вам дан датасет **hr-analysis-prediction.csv**\n",
        "- Пусть ваш датасет уже записан в переменную **df** (заново прописывать не нужно)\n",
        "- Создайте переменную **df1**, которой присвоите датасет **df** со столбцами **Age**, **Department**, **EducationField** и **DailyRate** (должен быть тип DataFrame)\n",
        "- Создайте переменную **df2**, которой присвоите датасет **df** со столбцами **Department** и **EducationField** (должен быть тип DataFrame), также в **df2 необходимо УДАЛИТЬ дубли**\n",
        "- Создайте переменную **result** и присвойте ей результат объединения **df1** и **df2** по столбцам **Department и EducationField** при помощи `pandas.merge()` (используйте тип соединения **inner**)\n",
        "- Удаление дублей: https://pandas.pydata.org/docs/reference/api/pandas.DataFrame.drop_duplicates.html\n",
        "\n",
        "Пример:\n",
        "\n",
        "```python\n",
        "df1 = # ваш код\n",
        "df2 = # ваш код\n",
        "result = # ваш код\n",
        "```"
      ]
    },
    {
      "cell_type": "code",
      "execution_count": null,
      "metadata": {
        "id": "LKg0u8MDljPo",
        "outputId": "3ab77a03-e3b8-49d0-fdda-aad9eab11f76"
      },
      "outputs": [
        {
          "name": "stdout",
          "output_type": "stream",
          "text": [
            "df1:       Age              Department EducationField  DailyRate\n",
            "0      41                   Sales  Life Sciences       1102\n",
            "1      49  Research & Development  Life Sciences        279\n",
            "2      37  Research & Development          Other       1373\n",
            "3      33  Research & Development  Life Sciences       1392\n",
            "4      27  Research & Development        Medical        591\n",
            "...   ...                     ...            ...        ...\n",
            "1465   36  Research & Development        Medical        884\n",
            "1466   39  Research & Development        Medical        613\n",
            "1467   27  Research & Development  Life Sciences        155\n",
            "1468   49                   Sales        Medical       1023\n",
            "1469   34  Research & Development        Medical        628\n",
            "\n",
            "[1470 rows x 4 columns]\n",
            "df2:                   Department    EducationField\n",
            "0                      Sales     Life Sciences\n",
            "1     Research & Development     Life Sciences\n",
            "2     Research & Development             Other\n",
            "4     Research & Development           Medical\n",
            "10                       NaN           Medical\n",
            "11                       NaN     Life Sciences\n",
            "27                     Sales         Marketing\n",
            "33                     Sales  Technical Degree\n",
            "45    Research & Development  Technical Degree\n",
            "79           Human Resources           Medical\n",
            "89                     Sales           Medical\n",
            "96                     Sales             Other\n",
            "100          Human Resources   Human Resources\n",
            "134          Human Resources     Life Sciences\n",
            "350          Human Resources  Technical Degree\n",
            "1005         Human Resources             Other\n",
            "result:       Age              Department EducationField  DailyRate\n",
            "0      41                   Sales  Life Sciences       1102\n",
            "1      49  Research & Development  Life Sciences        279\n",
            "2      37  Research & Development          Other       1373\n",
            "3      33  Research & Development  Life Sciences       1392\n",
            "4      27  Research & Development        Medical        591\n",
            "...   ...                     ...            ...        ...\n",
            "1465   36  Research & Development        Medical        884\n",
            "1466   39  Research & Development        Medical        613\n",
            "1467   27  Research & Development  Life Sciences        155\n",
            "1468   49                   Sales        Medical       1023\n",
            "1469   34  Research & Development        Medical        628\n",
            "\n",
            "[1470 rows x 4 columns]\n"
          ]
        }
      ],
      "source": [
        "df1 = df[['Age', 'Department', 'EducationField', 'DailyRate']]\n",
        "df2 = df[['Department', 'EducationField']].drop_duplicates()\n",
        "result = pd.merge(df1, df2, on=['Department', 'EducationField'], how='inner')\n",
        "print(\"df1:\", df1)\n",
        "print(\"df2:\", df2)\n",
        "print(\"result:\", result)"
      ]
    },
    {
      "cell_type": "markdown",
      "metadata": {
        "id": "7M8SrE3wljPo"
      },
      "source": [
        "### HW. Блок Pandas. Задача 9\n",
        "\n",
        "- Представьте, что вам уже даны датасеты из задания 8 **df1** и **df2**\n",
        "- Создайте переменную **result** и присвойте ей результат конкатенации **df1** и **df2** по столбцам (axis=1)"
      ]
    },
    {
      "cell_type": "code",
      "execution_count": null,
      "metadata": {
        "code_folding": [],
        "id": "hVVjGXYvljPp",
        "outputId": "41d68924-9bed-4b9c-95f1-966a2aa9e76d"
      },
      "outputs": [
        {
          "name": "stdout",
          "output_type": "stream",
          "text": [
            "      Age              Department EducationField  DailyRate  \\\n",
            "0      41                   Sales  Life Sciences       1102   \n",
            "1      49  Research & Development  Life Sciences        279   \n",
            "2      37  Research & Development          Other       1373   \n",
            "3      33  Research & Development  Life Sciences       1392   \n",
            "4      27  Research & Development        Medical        591   \n",
            "...   ...                     ...            ...        ...   \n",
            "1465   36  Research & Development        Medical        884   \n",
            "1466   39  Research & Development        Medical        613   \n",
            "1467   27  Research & Development  Life Sciences        155   \n",
            "1468   49                   Sales        Medical       1023   \n",
            "1469   34  Research & Development        Medical        628   \n",
            "\n",
            "                  Department EducationField  \n",
            "0                      Sales  Life Sciences  \n",
            "1     Research & Development  Life Sciences  \n",
            "2     Research & Development          Other  \n",
            "3                        NaN            NaN  \n",
            "4     Research & Development        Medical  \n",
            "...                      ...            ...  \n",
            "1465                     NaN            NaN  \n",
            "1466                     NaN            NaN  \n",
            "1467                     NaN            NaN  \n",
            "1468                     NaN            NaN  \n",
            "1469                     NaN            NaN  \n",
            "\n",
            "[1470 rows x 6 columns]\n"
          ]
        }
      ],
      "source": [
        "# ваш код\n",
        "result = pd.concat([df1, df2], axis=1)\n",
        "print(result)"
      ]
    },
    {
      "cell_type": "markdown",
      "metadata": {
        "id": "W8g1bqdDljPp"
      },
      "source": [
        "### HW. Блок Pandas. Задача 10\n",
        "\n",
        "- Вам дан датасет **hr-analysis-prediction.csv**\n",
        "- Импортируйте pandas и напишите краткий алиас **pd**\n",
        "- Прочитайте датасет hr-analysis-prediction.csv и запишите его в виде DataFrame в переменную **df**\n",
        "- Представьте, что датасет лежит в той же папке, что и ваш код\n",
        "- Создайте переменную **dict_attrition**, куда запишите словарь (ключ тип str, значение тип int) с соответвующими значениями признака **Attrition**:\n",
        "    - **Yes** соответсвует значению **1**\n",
        "    - **No** соответсвует значению **0**\n",
        "- Испольуя словарь **dict_attrition** произведите замену значений в признаке **Attrition**\n",
        "- Чтобы в переменной **df** в признаке **Education** произошла замена, сделайте присваивание:\n",
        "\n",
        "```python\n",
        "df.Attrition = # ваш код\n",
        "```"
      ]
    },
    {
      "cell_type": "code",
      "execution_count": null,
      "metadata": {
        "id": "fwPlw-K_ljPp",
        "outputId": "9c6ea501-025e-4153-cabc-cc939514fa6a"
      },
      "outputs": [
        {
          "name": "stdout",
          "output_type": "stream",
          "text": [
            "0       1\n",
            "1       0\n",
            "2       1\n",
            "3       0\n",
            "4       0\n",
            "       ..\n",
            "1465    0\n",
            "1466    0\n",
            "1467    0\n",
            "1468    0\n",
            "1469    0\n",
            "Name: Attrition, Length: 1470, dtype: int64\n"
          ]
        }
      ],
      "source": [
        "# ваш код\n",
        "import pandas as pd\n",
        "df = pd.read_csv(\"hr-analysis-prediction.csv\")\n",
        "dict_attrition = {\n",
        "    'Yes': 1,\n",
        "    'No': 0\n",
        "}\n",
        "df.Attrition = df['Attrition'].map(dict_attrition)\n",
        "print(df.Attrition)"
      ]
    },
    {
      "cell_type": "markdown",
      "metadata": {
        "id": "Rp6dfiHxljPp"
      },
      "source": [
        "### HW. Блок Pandas. Задача 11\n",
        "\n",
        "\n",
        "- Вам дан датасет **hr-analysis-prediction.csv**\n",
        "- Пусть ваш датасет уже записан в переменную **df** (заново прописывать не нужно)\n",
        "- Создайте переменную **result**, которой присвоите датасет подсчитанный следующим образом:\n",
        "    - Необходимо подсчитать количество сотрудников в каждом из **Департаментов** (столбец Department), которые имеют **образование** (Education): **Bachelor** (соответсвует значению = 3) ИЛИ **Master** (соответсвует значению = 4)\n",
        "    - Далее **отнормировать** на **ОБЩЕЕ** количество людей, имеющих перечисленные степени образования (если в каком то департаменте сотрудников с таким образованием нет, то его включать не нужно)\n",
        "- Подсказка: задача решается в одну строку (value_counts). В лекции рассматривали метод, который имеет параметр для нормализации\n",
        "\n",
        "\n",
        "Должны получиться следующие результаты (тип DataFrame, для этого используйте метод `to_frame`, названия Депаратметров - индексы в датафрейме):\n",
        "\n",
        "|                        | percent  |\n",
        "|------------------------|----------|\n",
        "| Research & Development | 0.651270 |\n",
        "| Sales                  | 0.302540 |\n",
        "| Human Resources        | 0.046189 |"
      ]
    },
    {
      "cell_type": "code",
      "execution_count": null,
      "metadata": {
        "id": "BDttP5FDljPq",
        "outputId": "862d3e9a-7a9d-4b6e-bea6-58783c528520"
      },
      "outputs": [
        {
          "name": "stdout",
          "output_type": "stream",
          "text": [
            "                         percent\n",
            "Department                      \n",
            "Research & Development  0.651270\n",
            "Sales                   0.302540\n",
            "Human Resources         0.046189\n"
          ]
        }
      ],
      "source": [
        "# ваш код\n",
        "result = df[df['Education'].isin([3, 4])]['Department'].value_counts(normalize=True).to_frame('percent')\n",
        "print(result)"
      ]
    },
    {
      "cell_type": "markdown",
      "metadata": {
        "id": "XPnU0y8vljPq"
      },
      "source": [
        "### HW. Блок Pandas. Задача 12\n",
        "\n",
        "\n",
        "- Вам дан датасет **hr-analysis-prediction.csv**\n",
        "- Пусть ваш датасет уже записан в переменную **df** (заново прописывать не нужно)\n",
        "- Найдите параметры характеризующие разброс для признака **TotalWorkingYears** датасета **df**:\n",
        "    - Создайте переменную **result_val_gen**, которой присвоите значение дисперсии для генеральной совокупности признака **TotalWorkingYears** (тип float)\n",
        "    - Создайте переменную **result_val_sub**, которой присвоите значение дисперсии для выборки признака **TotalWorkingYears** (тип float)\n",
        "    - Создайте переменную **result_std_gen**, которой присвоите значение среднеквадратического отклонения признака **TotalWorkingYears** (тип float)\n",
        "    - Создайте переменную **result_std_sub**, которой присвоите значение стандартного отклонения признака **TotalWorkingYears** (тип float)\n",
        "    - Создайте переменную **result_iqr**, которой присвоите значение IQR признака **TotalWorkingYears** (тип float)"
      ]
    },
    {
      "cell_type": "code",
      "execution_count": null,
      "metadata": {
        "id": "6Gh5HkleljPq",
        "outputId": "69dccff4-84a7-4851-f306-868f51536533"
      },
      "outputs": [
        {
          "name": "stdout",
          "output_type": "stream",
          "text": [
            "result_val_gen:  61.054035643750545\n",
            "result_val_sub:  61.09679057067194\n",
            "result_std_gen:  7.813708187778102\n",
            "result_std_sub:  7.816443601195619\n",
            "result_iqr:  9.0\n"
          ]
        }
      ],
      "source": [
        "# ваш код\n",
        "result_val_gen = float(df['TotalWorkingYears'].var(ddof=0))\n",
        "result_val_sub = float(df['TotalWorkingYears'].var(ddof=1))\n",
        "result_std_gen = float(df['TotalWorkingYears'].std(ddof=0))\n",
        "result_std_sub = float(df['TotalWorkingYears'].std(ddof=1))\n",
        "result_iqr = float(df['TotalWorkingYears'].quantile(0.75) - df['TotalWorkingYears'].quantile(0.25))\n",
        "print('result_val_gen: ', result_val_gen)\n",
        "print('result_val_sub: ', result_val_sub)\n",
        "print('result_std_gen: ', result_std_gen)\n",
        "print('result_std_sub: ', result_std_sub)\n",
        "print('result_iqr: ', result_iqr)"
      ]
    }
  ],
  "metadata": {
    "hide_input": false,
    "kernelspec": {
      "display_name": "Python 3 (ipykernel)",
      "language": "python",
      "name": "python3"
    },
    "language_info": {
      "codemirror_mode": {
        "name": "ipython",
        "version": 3
      },
      "file_extension": ".py",
      "mimetype": "text/x-python",
      "name": "python",
      "nbconvert_exporter": "python",
      "pygments_lexer": "ipython3",
      "version": "3.12.2"
    },
    "toc": {
      "base_numbering": 1,
      "nav_menu": {},
      "number_sections": true,
      "sideBar": true,
      "skip_h1_title": false,
      "title_cell": "Table of Contents",
      "title_sidebar": "Contents",
      "toc_cell": false,
      "toc_position": {
        "height": "calc(100% - 180px)",
        "left": "10px",
        "top": "150px",
        "width": "338.8051452636719px"
      },
      "toc_section_display": true,
      "toc_window_display": false
    },
    "colab": {
      "provenance": [],
      "include_colab_link": true
    }
  },
  "nbformat": 4,
  "nbformat_minor": 0
}