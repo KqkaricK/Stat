{
  "cells": [
    {
      "cell_type": "markdown",
      "metadata": {
        "id": "view-in-github",
        "colab_type": "text"
      },
      "source": [
        "<a href=\"https://colab.research.google.com/github/KqkaricK/Stat/blob/main/Lab4.ipynb\" target=\"_parent\"><img src=\"https://colab.research.google.com/assets/colab-badge.svg\" alt=\"Open In Colab\"/></a>"
      ]
    },
    {
      "cell_type": "markdown",
      "metadata": {
        "id": "aHxxvL0GphLr"
      },
      "source": [
        "# Pandas. Доверительный интервал. Меры различий"
      ]
    },
    {
      "cell_type": "code",
      "execution_count": null,
      "metadata": {
        "id": "q1M4KXLgphLw"
      },
      "outputs": [],
      "source": [
        "# ваш импорт\n",
        "import pandas as pd\n",
        "import numpy as np\n",
        "import seaborn as sns\n",
        "import matplotlib.pyplot as plt\n",
        "\n",
        "from scipy import stats\n",
        "from typing import Callable"
      ]
    },
    {
      "cell_type": "markdown",
      "metadata": {
        "id": "T2MnVlXUphLx"
      },
      "source": [
        "1) Загрузка и первичная предобработка\n",
        "\n",
        "- Загрузить данные **orders.csv** и **visitors.csv** в датафреймы и записать в соответвующие переменные **orders** и **visitors**\n",
        "- При считывании обоих файлов при помощи read_csv() установите параметр parse_dates=['date'] для перевода даты из типа str в Timestamp\n",
        "- Удалить пересечения по клиентам (visitorId) в группе A и B (код можно взять из лекции, таблицу visitors не трогать в этом случае!) и записать результат в переменную **orders**\n",
        "\n",
        "ВСЕ ПРИМЕРЫ ЕСТЬ В ЛЕКЦИИ"
      ]
    },
    {
      "cell_type": "code",
      "execution_count": null,
      "metadata": {
        "id": "pCUILRm_phLy"
      },
      "outputs": [],
      "source": [
        "# ваш код\n",
        "orders = pd.read_csv('orders.csv', parse_dates=['date'])\n",
        "visitors = pd.read_csv('visitors.csv', parse_dates=['date'])"
      ]
    },
    {
      "cell_type": "code",
      "execution_count": null,
      "metadata": {
        "id": "QkIlFbogphLy",
        "outputId": "4f8644b2-69c1-4e6a-b029-186f0931ad14"
      },
      "outputs": [
        {
          "data": {
            "text/html": [
              "<div>\n",
              "<style scoped>\n",
              "    .dataframe tbody tr th:only-of-type {\n",
              "        vertical-align: middle;\n",
              "    }\n",
              "\n",
              "    .dataframe tbody tr th {\n",
              "        vertical-align: top;\n",
              "    }\n",
              "\n",
              "    .dataframe thead th {\n",
              "        text-align: right;\n",
              "    }\n",
              "</style>\n",
              "<table border=\"1\" class=\"dataframe\">\n",
              "  <thead>\n",
              "    <tr style=\"text-align: right;\">\n",
              "      <th></th>\n",
              "      <th>transactionId</th>\n",
              "      <th>visitorId</th>\n",
              "      <th>date</th>\n",
              "      <th>revenue</th>\n",
              "      <th>group</th>\n",
              "    </tr>\n",
              "  </thead>\n",
              "  <tbody>\n",
              "    <tr>\n",
              "      <th>0</th>\n",
              "      <td>0</td>\n",
              "      <td>0</td>\n",
              "      <td>2021-03-15</td>\n",
              "      <td>1633</td>\n",
              "      <td>B</td>\n",
              "    </tr>\n",
              "    <tr>\n",
              "      <th>1</th>\n",
              "      <td>1</td>\n",
              "      <td>1</td>\n",
              "      <td>2021-03-15</td>\n",
              "      <td>659</td>\n",
              "      <td>B</td>\n",
              "    </tr>\n",
              "    <tr>\n",
              "      <th>3</th>\n",
              "      <td>3</td>\n",
              "      <td>3</td>\n",
              "      <td>2021-03-15</td>\n",
              "      <td>9688</td>\n",
              "      <td>B</td>\n",
              "    </tr>\n",
              "    <tr>\n",
              "      <th>4</th>\n",
              "      <td>4</td>\n",
              "      <td>4</td>\n",
              "      <td>2021-03-15</td>\n",
              "      <td>2221</td>\n",
              "      <td>B</td>\n",
              "    </tr>\n",
              "    <tr>\n",
              "      <th>5</th>\n",
              "      <td>5</td>\n",
              "      <td>5</td>\n",
              "      <td>2021-03-15</td>\n",
              "      <td>2148</td>\n",
              "      <td>B</td>\n",
              "    </tr>\n",
              "    <tr>\n",
              "      <th>...</th>\n",
              "      <td>...</td>\n",
              "      <td>...</td>\n",
              "      <td>...</td>\n",
              "      <td>...</td>\n",
              "      <td>...</td>\n",
              "    </tr>\n",
              "    <tr>\n",
              "      <th>1191</th>\n",
              "      <td>1191</td>\n",
              "      <td>1191</td>\n",
              "      <td>2021-03-14</td>\n",
              "      <td>16419</td>\n",
              "      <td>B</td>\n",
              "    </tr>\n",
              "    <tr>\n",
              "      <th>1192</th>\n",
              "      <td>1192</td>\n",
              "      <td>1192</td>\n",
              "      <td>2021-03-14</td>\n",
              "      <td>6478</td>\n",
              "      <td>B</td>\n",
              "    </tr>\n",
              "    <tr>\n",
              "      <th>1193</th>\n",
              "      <td>1193</td>\n",
              "      <td>1193</td>\n",
              "      <td>2021-03-14</td>\n",
              "      <td>3185</td>\n",
              "      <td>A</td>\n",
              "    </tr>\n",
              "    <tr>\n",
              "      <th>1194</th>\n",
              "      <td>1194</td>\n",
              "      <td>1194</td>\n",
              "      <td>2021-03-14</td>\n",
              "      <td>10514</td>\n",
              "      <td>A</td>\n",
              "    </tr>\n",
              "    <tr>\n",
              "      <th>1196</th>\n",
              "      <td>1196</td>\n",
              "      <td>1196</td>\n",
              "      <td>2021-03-15</td>\n",
              "      <td>202680</td>\n",
              "      <td>B</td>\n",
              "    </tr>\n",
              "  </tbody>\n",
              "</table>\n",
              "<p>1016 rows × 5 columns</p>\n",
              "</div>"
            ],
            "text/plain": [
              "      transactionId  visitorId       date  revenue group\n",
              "0                 0          0 2021-03-15     1633     B\n",
              "1                 1          1 2021-03-15      659     B\n",
              "3                 3          3 2021-03-15     9688     B\n",
              "4                 4          4 2021-03-15     2221     B\n",
              "5                 5          5 2021-03-15     2148     B\n",
              "...             ...        ...        ...      ...   ...\n",
              "1191           1191       1191 2021-03-14    16419     B\n",
              "1192           1192       1192 2021-03-14     6478     B\n",
              "1193           1193       1193 2021-03-14     3185     A\n",
              "1194           1194       1194 2021-03-14    10514     A\n",
              "1196           1196       1196 2021-03-15   202680     B\n",
              "\n",
              "[1016 rows x 5 columns]"
            ]
          },
          "execution_count": 92,
          "metadata": {},
          "output_type": "execute_result"
        }
      ],
      "source": [
        "# ваш код\n",
        "unique_A = orders[orders['group'] == 'A']['visitorId'].unique()\n",
        "unique_B = orders[orders['group'] == 'B']['visitorId'].unique()\n",
        "len(np.intersect1d(unique_A, unique_B))\n",
        "orders = orders[~orders['visitorId'].isin(np.intersect1d(unique_A, unique_B))]\n",
        "orders"
      ]
    },
    {
      "cell_type": "markdown",
      "metadata": {
        "id": "2fVRh1ndphLz"
      },
      "source": [
        "2) Создать новую таблицу **orders_group**, произведя группировку таблицы **orders** по полям 'date', 'group' и подсчитав:\n",
        "- кол-во уникальных транзакций\n",
        "- кол-во уникальных клиентов\n",
        "- сумму прибыли revenue\n",
        "\n",
        "Далее объединить получившийся датасет после группировки с таблицей **visitors** по полям 'date' и 'group' и записать в переменную **orders_group**\n",
        "\n",
        "ВСЕ ПРИМЕРЫ ЕСТЬ В ЛЕКЦИИ"
      ]
    },
    {
      "cell_type": "code",
      "execution_count": null,
      "metadata": {
        "id": "OLkZEjo2phL0",
        "outputId": "3ef88417-0c09-49bd-d430-888c8889c0e5"
      },
      "outputs": [
        {
          "data": {
            "text/html": [
              "<div>\n",
              "<style scoped>\n",
              "    .dataframe tbody tr th:only-of-type {\n",
              "        vertical-align: middle;\n",
              "    }\n",
              "\n",
              "    .dataframe tbody tr th {\n",
              "        vertical-align: top;\n",
              "    }\n",
              "\n",
              "    .dataframe thead th {\n",
              "        text-align: right;\n",
              "    }\n",
              "</style>\n",
              "<table border=\"1\" class=\"dataframe\">\n",
              "  <thead>\n",
              "    <tr style=\"text-align: right;\">\n",
              "      <th></th>\n",
              "      <th>date</th>\n",
              "      <th>group</th>\n",
              "      <th>transactionId</th>\n",
              "      <th>visitorId</th>\n",
              "      <th>revenue</th>\n",
              "      <th>visitors</th>\n",
              "    </tr>\n",
              "  </thead>\n",
              "  <tbody>\n",
              "    <tr>\n",
              "      <th>0</th>\n",
              "      <td>2021-03-01</td>\n",
              "      <td>A</td>\n",
              "      <td>23</td>\n",
              "      <td>19</td>\n",
              "      <td>141459</td>\n",
              "      <td>682</td>\n",
              "    </tr>\n",
              "    <tr>\n",
              "      <th>1</th>\n",
              "      <td>2021-03-01</td>\n",
              "      <td>B</td>\n",
              "      <td>17</td>\n",
              "      <td>17</td>\n",
              "      <td>59242</td>\n",
              "      <td>631</td>\n",
              "    </tr>\n",
              "    <tr>\n",
              "      <th>2</th>\n",
              "      <td>2021-03-02</td>\n",
              "      <td>A</td>\n",
              "      <td>19</td>\n",
              "      <td>18</td>\n",
              "      <td>90960</td>\n",
              "      <td>564</td>\n",
              "    </tr>\n",
              "    <tr>\n",
              "      <th>3</th>\n",
              "      <td>2021-03-02</td>\n",
              "      <td>B</td>\n",
              "      <td>23</td>\n",
              "      <td>22</td>\n",
              "      <td>161192</td>\n",
              "      <td>560</td>\n",
              "    </tr>\n",
              "    <tr>\n",
              "      <th>4</th>\n",
              "      <td>2021-03-03</td>\n",
              "      <td>A</td>\n",
              "      <td>24</td>\n",
              "      <td>24</td>\n",
              "      <td>111486</td>\n",
              "      <td>410</td>\n",
              "    </tr>\n",
              "    <tr>\n",
              "      <th>...</th>\n",
              "      <td>...</td>\n",
              "      <td>...</td>\n",
              "      <td>...</td>\n",
              "      <td>...</td>\n",
              "      <td>...</td>\n",
              "      <td>...</td>\n",
              "    </tr>\n",
              "    <tr>\n",
              "      <th>57</th>\n",
              "      <td>2021-03-29</td>\n",
              "      <td>B</td>\n",
              "      <td>15</td>\n",
              "      <td>15</td>\n",
              "      <td>105283</td>\n",
              "      <td>487</td>\n",
              "    </tr>\n",
              "    <tr>\n",
              "      <th>58</th>\n",
              "      <td>2021-03-30</td>\n",
              "      <td>A</td>\n",
              "      <td>9</td>\n",
              "      <td>8</td>\n",
              "      <td>77786</td>\n",
              "      <td>413</td>\n",
              "    </tr>\n",
              "    <tr>\n",
              "      <th>59</th>\n",
              "      <td>2021-03-30</td>\n",
              "      <td>B</td>\n",
              "      <td>21</td>\n",
              "      <td>21</td>\n",
              "      <td>208365</td>\n",
              "      <td>412</td>\n",
              "    </tr>\n",
              "    <tr>\n",
              "      <th>60</th>\n",
              "      <td>2021-03-31</td>\n",
              "      <td>A</td>\n",
              "      <td>8</td>\n",
              "      <td>8</td>\n",
              "      <td>53067</td>\n",
              "      <td>692</td>\n",
              "    </tr>\n",
              "    <tr>\n",
              "      <th>61</th>\n",
              "      <td>2021-03-31</td>\n",
              "      <td>B</td>\n",
              "      <td>17</td>\n",
              "      <td>17</td>\n",
              "      <td>112644</td>\n",
              "      <td>733</td>\n",
              "    </tr>\n",
              "  </tbody>\n",
              "</table>\n",
              "<p>62 rows × 6 columns</p>\n",
              "</div>"
            ],
            "text/plain": [
              "         date group  transactionId  visitorId  revenue  visitors\n",
              "0  2021-03-01     A             23         19   141459       682\n",
              "1  2021-03-01     B             17         17    59242       631\n",
              "2  2021-03-02     A             19         18    90960       564\n",
              "3  2021-03-02     B             23         22   161192       560\n",
              "4  2021-03-03     A             24         24   111486       410\n",
              "..        ...   ...            ...        ...      ...       ...\n",
              "57 2021-03-29     B             15         15   105283       487\n",
              "58 2021-03-30     A              9          8    77786       413\n",
              "59 2021-03-30     B             21         21   208365       412\n",
              "60 2021-03-31     A              8          8    53067       692\n",
              "61 2021-03-31     B             17         17   112644       733\n",
              "\n",
              "[62 rows x 6 columns]"
            ]
          },
          "execution_count": 94,
          "metadata": {},
          "output_type": "execute_result"
        }
      ],
      "source": [
        "# ваш код\n",
        "orders_group = orders.groupby(['date', 'group']).agg({\n",
        "    'transactionId': 'nunique',\n",
        "    'visitorId': 'nunique',\n",
        "    'revenue': 'sum'\n",
        "}).reset_index()\n",
        "orders_group = pd.merge(orders_group, visitors, on=['date', 'group'])\n",
        "orders_group"
      ]
    },
    {
      "cell_type": "markdown",
      "metadata": {
        "id": "82ZuxfhkphL0"
      },
      "source": [
        "3) Создайте новую колонку **purchase_mean** в таблице **orders_group** - средний чек, разделив сумму дохода на кол-во уникальных транзакци (пример в лекции)"
      ]
    },
    {
      "cell_type": "code",
      "execution_count": null,
      "metadata": {
        "id": "DR_cGvGZphL1",
        "outputId": "24ffd9ca-4a41-478c-ada4-153b84e11f40"
      },
      "outputs": [
        {
          "data": {
            "text/html": [
              "<div>\n",
              "<style scoped>\n",
              "    .dataframe tbody tr th:only-of-type {\n",
              "        vertical-align: middle;\n",
              "    }\n",
              "\n",
              "    .dataframe tbody tr th {\n",
              "        vertical-align: top;\n",
              "    }\n",
              "\n",
              "    .dataframe thead th {\n",
              "        text-align: right;\n",
              "    }\n",
              "</style>\n",
              "<table border=\"1\" class=\"dataframe\">\n",
              "  <thead>\n",
              "    <tr style=\"text-align: right;\">\n",
              "      <th></th>\n",
              "      <th>date</th>\n",
              "      <th>group</th>\n",
              "      <th>transactionId</th>\n",
              "      <th>visitorId</th>\n",
              "      <th>revenue</th>\n",
              "      <th>visitors</th>\n",
              "      <th>purchase_mean</th>\n",
              "    </tr>\n",
              "  </thead>\n",
              "  <tbody>\n",
              "    <tr>\n",
              "      <th>0</th>\n",
              "      <td>2021-03-01</td>\n",
              "      <td>A</td>\n",
              "      <td>23</td>\n",
              "      <td>19</td>\n",
              "      <td>141459</td>\n",
              "      <td>682</td>\n",
              "      <td>6150.391304</td>\n",
              "    </tr>\n",
              "    <tr>\n",
              "      <th>1</th>\n",
              "      <td>2021-03-01</td>\n",
              "      <td>B</td>\n",
              "      <td>17</td>\n",
              "      <td>17</td>\n",
              "      <td>59242</td>\n",
              "      <td>631</td>\n",
              "      <td>3484.823529</td>\n",
              "    </tr>\n",
              "    <tr>\n",
              "      <th>2</th>\n",
              "      <td>2021-03-02</td>\n",
              "      <td>A</td>\n",
              "      <td>19</td>\n",
              "      <td>18</td>\n",
              "      <td>90960</td>\n",
              "      <td>564</td>\n",
              "      <td>4787.368421</td>\n",
              "    </tr>\n",
              "    <tr>\n",
              "      <th>3</th>\n",
              "      <td>2021-03-02</td>\n",
              "      <td>B</td>\n",
              "      <td>23</td>\n",
              "      <td>22</td>\n",
              "      <td>161192</td>\n",
              "      <td>560</td>\n",
              "      <td>7008.347826</td>\n",
              "    </tr>\n",
              "    <tr>\n",
              "      <th>4</th>\n",
              "      <td>2021-03-03</td>\n",
              "      <td>A</td>\n",
              "      <td>24</td>\n",
              "      <td>24</td>\n",
              "      <td>111486</td>\n",
              "      <td>410</td>\n",
              "      <td>4645.250000</td>\n",
              "    </tr>\n",
              "    <tr>\n",
              "      <th>...</th>\n",
              "      <td>...</td>\n",
              "      <td>...</td>\n",
              "      <td>...</td>\n",
              "      <td>...</td>\n",
              "      <td>...</td>\n",
              "      <td>...</td>\n",
              "      <td>...</td>\n",
              "    </tr>\n",
              "    <tr>\n",
              "      <th>57</th>\n",
              "      <td>2021-03-29</td>\n",
              "      <td>B</td>\n",
              "      <td>15</td>\n",
              "      <td>15</td>\n",
              "      <td>105283</td>\n",
              "      <td>487</td>\n",
              "      <td>7018.866667</td>\n",
              "    </tr>\n",
              "    <tr>\n",
              "      <th>58</th>\n",
              "      <td>2021-03-30</td>\n",
              "      <td>A</td>\n",
              "      <td>9</td>\n",
              "      <td>8</td>\n",
              "      <td>77786</td>\n",
              "      <td>413</td>\n",
              "      <td>8642.888889</td>\n",
              "    </tr>\n",
              "    <tr>\n",
              "      <th>59</th>\n",
              "      <td>2021-03-30</td>\n",
              "      <td>B</td>\n",
              "      <td>21</td>\n",
              "      <td>21</td>\n",
              "      <td>208365</td>\n",
              "      <td>412</td>\n",
              "      <td>9922.142857</td>\n",
              "    </tr>\n",
              "    <tr>\n",
              "      <th>60</th>\n",
              "      <td>2021-03-31</td>\n",
              "      <td>A</td>\n",
              "      <td>8</td>\n",
              "      <td>8</td>\n",
              "      <td>53067</td>\n",
              "      <td>692</td>\n",
              "      <td>6633.375000</td>\n",
              "    </tr>\n",
              "    <tr>\n",
              "      <th>61</th>\n",
              "      <td>2021-03-31</td>\n",
              "      <td>B</td>\n",
              "      <td>17</td>\n",
              "      <td>17</td>\n",
              "      <td>112644</td>\n",
              "      <td>733</td>\n",
              "      <td>6626.117647</td>\n",
              "    </tr>\n",
              "  </tbody>\n",
              "</table>\n",
              "<p>62 rows × 7 columns</p>\n",
              "</div>"
            ],
            "text/plain": [
              "         date group  transactionId  visitorId  revenue  visitors  \\\n",
              "0  2021-03-01     A             23         19   141459       682   \n",
              "1  2021-03-01     B             17         17    59242       631   \n",
              "2  2021-03-02     A             19         18    90960       564   \n",
              "3  2021-03-02     B             23         22   161192       560   \n",
              "4  2021-03-03     A             24         24   111486       410   \n",
              "..        ...   ...            ...        ...      ...       ...   \n",
              "57 2021-03-29     B             15         15   105283       487   \n",
              "58 2021-03-30     A              9          8    77786       413   \n",
              "59 2021-03-30     B             21         21   208365       412   \n",
              "60 2021-03-31     A              8          8    53067       692   \n",
              "61 2021-03-31     B             17         17   112644       733   \n",
              "\n",
              "    purchase_mean  \n",
              "0     6150.391304  \n",
              "1     3484.823529  \n",
              "2     4787.368421  \n",
              "3     7008.347826  \n",
              "4     4645.250000  \n",
              "..            ...  \n",
              "57    7018.866667  \n",
              "58    8642.888889  \n",
              "59    9922.142857  \n",
              "60    6633.375000  \n",
              "61    6626.117647  \n",
              "\n",
              "[62 rows x 7 columns]"
            ]
          },
          "execution_count": 95,
          "metadata": {},
          "output_type": "execute_result"
        }
      ],
      "source": [
        "# ваш код\n",
        "orders_group['purchase_mean'] = orders_group['revenue'] / orders_group['transactionId']\n",
        "orders_group"
      ]
    },
    {
      "cell_type": "markdown",
      "metadata": {
        "id": "TdR-EGAqphL2"
      },
      "source": [
        "4) Создайте две переменные **orders_group_a** и **orders_group_b**, куда запишите данные группы А и группы B соответственно (пример в лекции)"
      ]
    },
    {
      "cell_type": "code",
      "execution_count": null,
      "metadata": {
        "id": "qa2_sliOphL2",
        "outputId": "4c7c2e3c-90de-4f0d-cb4c-be8276093442"
      },
      "outputs": [
        {
          "name": "stdout",
          "output_type": "stream",
          "text": [
            "orders_group_a:\n",
            "         date group  transactionId  visitorId  revenue  visitors  \\\n",
            "0  2021-03-01     A             23         19   141459       682   \n",
            "2  2021-03-02     A             19         18    90960       564   \n",
            "4  2021-03-03     A             24         24   111486       410   \n",
            "6  2021-03-04     A             11         11    40689       709   \n",
            "8  2021-03-05     A             22         22    85292       764   \n",
            "10 2021-03-06     A             15         12    40361       680   \n",
            "12 2021-03-07     A             16         16   122754       566   \n",
            "14 2021-03-08     A             14         14    88035       547   \n",
            "16 2021-03-09     A             11         11   133730       595   \n",
            "18 2021-03-10     A             15         15   151539       406   \n",
            "20 2021-03-11     A             11         11    60153       662   \n",
            "22 2021-03-12     A             19         19   219681       569   \n",
            "24 2021-03-13     A             14         14   263098       713   \n",
            "26 2021-03-14     A             17         17    42628       650   \n",
            "28 2021-03-15     A             10         10    80395       599   \n",
            "30 2021-03-16     A             18         18    99143       291   \n",
            "32 2021-03-17     A              6          5    34360       374   \n",
            "34 2021-03-18     A             13         13    59160       676   \n",
            "36 2021-03-19     A             21         21   167227       480   \n",
            "38 2021-03-20     A             10         10    58139       490   \n",
            "40 2021-03-21     A             20         19   169100       627   \n",
            "42 2021-03-22     A             10         10    91980       548   \n",
            "44 2021-03-23     A             20         20    57024       463   \n",
            "46 2021-03-24     A             13         13   121485       348   \n",
            "48 2021-03-25     A              8          8    51511       617   \n",
            "50 2021-03-26     A             16         16   156503       722   \n",
            "52 2021-03-27     A             23         23   184423       638   \n",
            "54 2021-03-28     A             15         15    95607       572   \n",
            "56 2021-03-29     A             17         17   195384       489   \n",
            "58 2021-03-30     A              9          8    77786       413   \n",
            "60 2021-03-31     A              8          8    53067       692   \n",
            "\n",
            "    purchase_mean  \n",
            "0     6150.391304  \n",
            "2     4787.368421  \n",
            "4     4645.250000  \n",
            "6     3699.000000  \n",
            "8     3876.909091  \n",
            "10    2690.733333  \n",
            "12    7672.125000  \n",
            "14    6288.214286  \n",
            "16   12157.272727  \n",
            "18   10102.600000  \n",
            "20    5468.454545  \n",
            "22   11562.157895  \n",
            "24   18792.714286  \n",
            "26    2507.529412  \n",
            "28    8039.500000  \n",
            "30    5507.944444  \n",
            "32    5726.666667  \n",
            "34    4550.769231  \n",
            "36    7963.190476  \n",
            "38    5813.900000  \n",
            "40    8455.000000  \n",
            "42    9198.000000  \n",
            "44    2851.200000  \n",
            "46    9345.000000  \n",
            "48    6438.875000  \n",
            "50    9781.437500  \n",
            "52    8018.391304  \n",
            "54    6373.800000  \n",
            "56   11493.176471  \n",
            "58    8642.888889  \n",
            "60    6633.375000  \n",
            "orders_group_b:\n",
            "         date group  transactionId  visitorId  revenue  visitors  \\\n",
            "1  2021-03-01     B             17         17    59242       631   \n",
            "3  2021-03-02     B             23         22   161192       560   \n",
            "5  2021-03-03     B             14         14    66386       419   \n",
            "7  2021-03-04     B             14         13    96158       776   \n",
            "9  2021-03-05     B             21         21    88969       609   \n",
            "11 2021-03-06     B             23         22   213999       576   \n",
            "13 2021-03-07     B             23         23   218240       632   \n",
            "15 2021-03-08     B             22         22   148910       628   \n",
            "17 2021-03-09     B             19         19   102769       539   \n",
            "19 2021-03-10     B             22         22   104300       360   \n",
            "21 2021-03-11     B             12         12    52518       659   \n",
            "23 2021-03-12     B             19         19   103297       492   \n",
            "25 2021-03-13     B             20         20   116877       701   \n",
            "27 2021-03-14     B             14         14   106749       687   \n",
            "29 2021-03-15     B             26         26   309021       545   \n",
            "31 2021-03-16     B             18         18   113488       359   \n",
            "33 2021-03-17     B             13         13    80183       395   \n",
            "35 2021-03-18     B              7          7    35016       666   \n",
            "37 2021-03-19     B             21         20  1429099       410   \n",
            "39 2021-03-20     B             20         20   146660       512   \n",
            "41 2021-03-21     B             12         12   139825       638   \n",
            "43 2021-03-22     B             21         21   140725       562   \n",
            "45 2021-03-23     B             13         13    76728       497   \n",
            "47 2021-03-24     B             14         14    87288       376   \n",
            "49 2021-03-25     B             12         12    78719       625   \n",
            "51 2021-03-26     B             22         22   172526       584   \n",
            "53 2021-03-27     B             11         11   110732       664   \n",
            "55 2021-03-28     B             22         22    60443       646   \n",
            "57 2021-03-29     B             15         15   105283       487   \n",
            "59 2021-03-30     B             21         21   208365       412   \n",
            "61 2021-03-31     B             17         17   112644       733   \n",
            "\n",
            "    purchase_mean  \n",
            "1     3484.823529  \n",
            "3     7008.347826  \n",
            "5     4741.857143  \n",
            "7     6868.428571  \n",
            "9     4236.619048  \n",
            "11    9304.304348  \n",
            "13    9488.695652  \n",
            "15    6768.636364  \n",
            "17    5408.894737  \n",
            "19    4740.909091  \n",
            "21    4376.500000  \n",
            "23    5436.684211  \n",
            "25    5843.850000  \n",
            "27    7624.928571  \n",
            "29   11885.423077  \n",
            "31    6304.888889  \n",
            "33    6167.923077  \n",
            "35    5002.285714  \n",
            "37   68052.333333  \n",
            "39    7333.000000  \n",
            "41   11652.083333  \n",
            "43    6701.190476  \n",
            "45    5902.153846  \n",
            "47    6234.857143  \n",
            "49    6559.916667  \n",
            "51    7842.090909  \n",
            "53   10066.545455  \n",
            "55    2747.409091  \n",
            "57    7018.866667  \n",
            "59    9922.142857  \n",
            "61    6626.117647  \n"
          ]
        }
      ],
      "source": [
        "# ваш код\n",
        "orders_group_a = orders_group[orders_group['group'] == 'A']\n",
        "orders_group_b = orders_group[orders_group['group'] == 'B']\n",
        "\n",
        "print(\"orders_group_a:\")\n",
        "print(orders_group_a)\n",
        "print(\"orders_group_b:\")\n",
        "print(orders_group_b)"
      ]
    },
    {
      "cell_type": "markdown",
      "metadata": {
        "id": "RxksAUMiphL2"
      },
      "source": [
        "5) Построить графики распределений (histplot) среднего чека отдельно для A и B групп.\n",
        "\n",
        "Отобразить графики **в ОДНОЙ строке, но в РАЗНЫХ столбцах и с РАЗНЫМИ цветами**"
      ]
    },
    {
      "cell_type": "code",
      "execution_count": null,
      "metadata": {
        "id": "4oaAfz-ophL2",
        "outputId": "deafd1d1-8138-40c6-ab2a-dd14f7c78ac8"
      },
      "outputs": [
        {
          "data": {
            "image/png": "[encoded data removed]",
            "text/plain": [
              "<Figure size 1500x500 with 2 Axes>"
            ]
          },
          "metadata": {},
          "output_type": "display_data"
        }
      ],
      "source": [
        "# ваш код\n",
        "fig, axes = plt.subplots(ncols=2, figsize=(15, 5))\n",
        "\n",
        "sns.histplot(data=orders_group_a,\n",
        "             x='purchase_mean',\n",
        "             color='blue',\n",
        "             kde=True,\n",
        "             ax=axes[0])\n",
        "sns.histplot(data=orders_group_b,\n",
        "             x='purchase_mean',\n",
        "             color='red',\n",
        "             kde=True,\n",
        "             ax=axes[1])\n",
        "plt.show()"
      ]
    },
    {
      "cell_type": "markdown",
      "metadata": {
        "id": "YhTz31Q1phL3"
      },
      "source": [
        "6) Проверка на нормальность:\n",
        "\n",
        "- Напишите функцию **check_normal()** для проверки на нормальность по критерию Шапиро-Уилка, которая будет выводить **относится ли распределение к нормальному или не**т, а также **выводить значение p-value с 3мя знаками после запятой**\n",
        "\n",
        "- Проверьте распределения среднего чека (признак purchase_mean) **для группы A** на нормальность, используя написанную функцию\n",
        "- Проверьте распределения среднего чека (признак purchase_mean) **для группы B** на нормальность, используя написанную функцию"
      ]
    },
    {
      "cell_type": "code",
      "execution_count": null,
      "metadata": {
        "id": "6JDA9JgKphL3",
        "outputId": "1c649a3e-2d55-487d-d8c9-7f8732407be5"
      },
      "outputs": [
        {
          "name": "stdout",
          "output_type": "stream",
          "text": [
            "Проверка для группы A:\n",
            "распределение не нормальное\n",
            "P-value: 0.017\n",
            "\n",
            "Проверка для группы B:\n",
            "распределение не нормальное\n",
            "P-value: 0.000\n"
          ]
        }
      ],
      "source": [
        "# ваш код\n",
        "def check_normal(data):\n",
        "    p_value = stats.shapiro(data).pvalue\n",
        "    if p_value >= 0.05:\n",
        "        result = \"распределение нормальное\"\n",
        "    else:\n",
        "        result = \"распределение не нормальное\"\n",
        "    print(result)\n",
        "    print(f\"P-value: {p_value:.3f}\")\n",
        "\n",
        "print(\"Проверка для группы A:\")\n",
        "check_normal(orders_group_a['purchase_mean'])\n",
        "print(\"\\nПроверка для группы B:\")\n",
        "check_normal(orders_group_b['purchase_mean'])\n"
      ]
    },
    {
      "cell_type": "markdown",
      "metadata": {
        "id": "45tkzUC2phL3"
      },
      "source": [
        "7) Напишите функцию **get_interval()** (пока без применения), которая бы:\n",
        "\n",
        "- вычисляла доверительный интервал **при помощи z критерия** при известной дисперсии (использовать дисперсию при вычислении, которую будете подавать на вход функции)\n",
        "- вычисляла доверительный интервал **при помощи t-критерия**, если дисперсия неизвестна\n",
        "- выводила как и сам интервал, так и условие: известна дисперсия, либо не известна\n",
        "- также нужно учесть, что функция должна принимать на вход:\n",
        "    - данные\n",
        "    - дисперсию (при известной дисперсии) - по умолчанию = None\n",
        "    - уровень доверия, по умолчанию $\\beta=0.95$ **здесь аккуратнее!!** см в лекции почему\n",
        "    \n",
        "У вас должна получиться **ОДНА функция**, которая вычисляет интервал для разных случаев"
      ]
    },
    {
      "cell_type": "code",
      "execution_count": null,
      "metadata": {
        "id": "bvHaatpHphL4"
      },
      "outputs": [],
      "source": [
        "# ваш код\n",
        "def get_interval(data,\n",
        "                 variance=None,\n",
        "                 confidence=0.95):\n",
        "\n",
        "    mean = np.mean(data)\n",
        "    std_dev = np.std(data)\n",
        "    n = len(data)\n",
        "\n",
        "    if variance is not None:\n",
        "        z_score = stats.norm.ppf((1 + confidence) / 2)\n",
        "        margin_error = z_score * np.sqrt(variance / n)\n",
        "        lower_bound = mean - margin_error\n",
        "        upper_bound = mean + margin_error\n",
        "        print(\"Условие: известна дисперсия\")\n",
        "        print(\"Доверительный интервал (по z-критерию, известна дисперсия): [{:.3f}, {:.3f}]\".format(lower_bound, upper_bound))\n",
        "    else:\n",
        "        t_score = stats.t.ppf((1 + confidence) / 2, n - 1)\n",
        "        margin_error = t_score * std_dev / np.sqrt(n)\n",
        "        lower_bound = mean - margin_error\n",
        "        upper_bound = mean + margin_error\n",
        "        print(\"Условие: не известна дисперсия\")\n",
        "        print(\"Доверительный интервал (по t-критерию, не известна дисперсия): [{:.3f}, {:.3f}]\".format(lower_bound, upper_bound))"
      ]
    },
    {
      "cell_type": "markdown",
      "metadata": {
        "id": "0ekL1fEbphL4"
      },
      "source": [
        "8) Найти доверительные интервалы **для каждой из групп A и B по отдельности** при помощи написанной функции **get_interval()** из задания №7 для признака **purchase_mean** при уровне доверия $\\beta=0.99$!!!:\n",
        "   - при известной дисперсии\n",
        "\n",
        "- За известную дисперсию возьмите значение для группы A = 11088900\n",
        "- За известную дисперсию возьмите значение для группы B = 122102500\n",
        "\n",
        "\n",
        "**Будьте внимательны**, так как в лекции брали пример с 95%, то с каждой стороны мы брали по 2.5%"
      ]
    },
    {
      "cell_type": "code",
      "execution_count": null,
      "metadata": {
        "id": "quDBT2yephL4",
        "outputId": "781a7f82-7242-4973-ecec-c31c99d83ebe"
      },
      "outputs": [
        {
          "name": "stdout",
          "output_type": "stream",
          "text": [
            "Доверительный интервал для группы A:\n",
            "Условие: известна дисперсия\n",
            "Доверительный интервал (по z-критерию, известна дисперсия): [5725.041, 8806.174]\n",
            "\n",
            "Доверительный интервал для группы B:\n",
            "Условие: известна дисперсия\n",
            "Доверительный интервал (по z-критерию, известна дисперсия): [3641.223, 13865.403]\n"
          ]
        }
      ],
      "source": [
        "# ваш код\n",
        "print(\"Доверительный интервал для группы A:\")\n",
        "get_interval(orders_group_a['purchase_mean'],\n",
        "             11088900,\n",
        "             0.99)\n",
        "print(\"\\nДоверительный интервал для группы B:\")\n",
        "get_interval(orders_group_b['purchase_mean'],\n",
        "             122102500,\n",
        "             0.99)\n"
      ]
    },
    {
      "cell_type": "markdown",
      "metadata": {
        "id": "5xLoviRcphL5"
      },
      "source": [
        "9) Найти доверительные интервалы **для каждой из групп A и B по отдельности** при помощи написанной функции **get_interval()** из задания №7 для признака **purchase_mean** для $\\beta=0.99$!!!:\n",
        "   - при неизвестной дисперсии\n",
        "   \n",
        "**Будьте внимательны**, так как в лекции брали пример с 95%, то с каждой стороны мы брали по 2.5%"
      ]
    },
    {
      "cell_type": "code",
      "execution_count": null,
      "metadata": {
        "id": "s1hpinmtphL5",
        "outputId": "667fa81f-e0d1-40c7-9570-865ce1f67359"
      },
      "outputs": [
        {
          "name": "stdout",
          "output_type": "stream",
          "text": [
            "Доверительный интервал для группы A:\n",
            "Условие: не известна дисперсия\n",
            "Доверительный интервал (по t-критерию, не известна дисперсия): [5622.179, 8909.036]\n",
            "\n",
            "Доверительный интервал для группы B:\n",
            "Условие: не известна дисперсия\n",
            "Доверительный интервал (по t-критерию, не известна дисперсия): [3301.333, 14205.293]\n"
          ]
        }
      ],
      "source": [
        "# ваш код\n",
        "print(\"Доверительный интервал для группы A:\")\n",
        "get_interval(orders_group_a['purchase_mean'],\n",
        "             confidence=0.99)\n",
        "print(\"\\nДоверительный интервал для группы B:\")\n",
        "get_interval(orders_group_b['purchase_mean'],\n",
        "             confidence=0.99)"
      ]
    },
    {
      "cell_type": "markdown",
      "metadata": {
        "id": "L5q6GXtBphL5"
      },
      "source": [
        "10) Написать функцию **bootstrap_interval()** (пока без применения) для вычисления интервала как из задания №7, но теперь только с использованием **Bootstrap**\n",
        "\n",
        "- функция должна принимать:\n",
        "    - данные\n",
        "    - функцию для усреднения (среднее, медиана и тд), по умолчанию np.mean\n",
        "    - уровень доверия, по умолчанию $\\beta=0.95$\n",
        "- вам уже дана функция из лекции bootstrap_resample(), вы ее можете **вызывать вннутри** bootstrap_interval() для генерации выборок\n",
        "- необходимо, чтобы функция **возвращала доверительный интервал**\n",
        "\n",
        "**ВАЖНО:**\n",
        "Описывать внутри вашей функции функцию bootstrap_resample() НЕ НУЖНО!"
      ]
    },
    {
      "cell_type": "code",
      "execution_count": null,
      "metadata": {
        "id": "XqsIYkwVphL5"
      },
      "outputs": [],
      "source": [
        "def bootstrap_resample(data: pd.Series,\n",
        "                       function: Callable,\n",
        "                       count_generate: int = 1000,\n",
        "                       random_state: int = 10) -> list:\n",
        "    \"\"\"\n",
        "    Bootstrap\n",
        "    \"\"\"\n",
        "    sample_size = len(data)\n",
        "    np.random.seed(random_state)\n",
        "    bootstrap_sample = []\n",
        "\n",
        "    for i in range(count_generate):\n",
        "        # replace - параметр возвращения\n",
        "        sample = data.sample(sample_size, replace=True)\n",
        "        bootstrap_sample.append(function(sample))\n",
        "\n",
        "    return bootstrap_sample"
      ]
    },
    {
      "cell_type": "code",
      "execution_count": null,
      "metadata": {
        "id": "g82FXotbphL6"
      },
      "outputs": [],
      "source": [
        "# ваш код\n",
        "def bootstrap_interval(data,\n",
        "                       function=np.mean,\n",
        "                       confidence=0.95):\n",
        "\n",
        "    bootstrap_sample = bootstrap_resample(data,\n",
        "                                          function)\n",
        "    alpha = (1 - confidence) / 2\n",
        "    lower_quantile = np.percentile(bootstrap_sample, alpha * 100)\n",
        "    upper_quantile = np.percentile(bootstrap_sample, (1 - alpha) * 100)\n",
        "\n",
        "    return lower_quantile, upper_quantile"
      ]
    },
    {
      "cell_type": "markdown",
      "metadata": {
        "id": "q_SMGT42phL6"
      },
      "source": [
        "11) Найти доверительный интервал **для каждой из групп A и B отдельно** для признака **purchase_mean** при помощи написанной функции из задания №10 при уровне доверия $\\beta=0.99$"
      ]
    },
    {
      "cell_type": "code",
      "execution_count": null,
      "metadata": {
        "id": "5BgVptZnphL6",
        "outputId": "654aa883-6838-4ac1-c6d5-45ec24986a5b"
      },
      "outputs": [
        {
          "name": "stdout",
          "output_type": "stream",
          "text": [
            "Доверительный интервал для группы A:\n",
            "(5947.664514351122, 8954.742452421211)\n",
            "\n",
            "Доверительный интервал для группы B:\n",
            "(6050.459675169871, 16430.998963675273)\n"
          ]
        }
      ],
      "source": [
        "# ваш код\n",
        "print(\"Доверительный интервал для группы A:\")\n",
        "interval_a = bootstrap_interval(orders_group_a['purchase_mean'],\n",
        "                                confidence=0.99)\n",
        "print(interval_a)\n",
        "print(\"\\nДоверительный интервал для группы B:\")\n",
        "interval_b = bootstrap_interval(orders_group_b['purchase_mean'],\n",
        "                                confidence=0.99)\n",
        "print(interval_b)\n"
      ]
    },
    {
      "cell_type": "markdown",
      "metadata": {
        "id": "tr7QdlxzphL6"
      },
      "source": [
        "12) Выберите **ТОЛЬКО ОДИН** из статистических методов (t-критерий или Манна-Уитни) для **сравнения средних двух выборок** (группы A с группой B) по признаку **purchase_mean** согласно проведенным выше исследованиям с **учетом типа распределения обеих выборок и их размера**.\n",
        "\n",
        "Схожи ли будут выборки? Взять уровень значимости $\\alpha=0.05$"
      ]
    },
    {
      "cell_type": "code",
      "execution_count": null,
      "metadata": {
        "id": "64XuYuXKphL7",
        "outputId": "711b198a-dd61-4e0c-b25e-21c255b7227e"
      },
      "outputs": [
        {
          "name": "stdout",
          "output_type": "stream",
          "text": [
            "Значение t-статистики: -0.7067879725286915\n",
            "Значение p-value: 0.4824341946463935\n",
            "Не отвергаем нулевую гипотезу: средние значения схожи\n"
          ]
        }
      ],
      "source": [
        "# ваш код\n",
        "t_statistic, p_value = stats.ttest_ind(orders_group_a['purchase_mean'], orders_group_b['purchase_mean'])\n",
        "\n",
        "print(\"Значение t-статистики:\", t_statistic)\n",
        "print(\"Значение p-value:\", p_value)\n",
        "\n",
        "if p_value < 0.05:\n",
        "    print(\"Отвергаем нулевую гипотезу: средние значения различны\")\n",
        "else:\n",
        "    print(\"Не отвергаем нулевую гипотезу: средние значения схожи\")"
      ]
    },
    {
      "cell_type": "markdown",
      "metadata": {
        "id": "FnCQ_WibphL7"
      },
      "source": [
        "13) Проделайте то же самое сравнение, но уже при помощи **Bootstrap**:\n",
        "- Используйте функцию **bootstrap_compare()** из лекции\n",
        "- В качестве **function возьмите np.median**!!!\n",
        "\n",
        "Выведите график **РАСПРЕДЕЛЕНИЯ** (не частоты значений) разности двух групп (пример в лекции), а также доверительный интервал\n",
        "\n",
        "Схожи ли результаты эксеримента?"
      ]
    },
    {
      "cell_type": "code",
      "execution_count": null,
      "metadata": {
        "id": "1610uNM2phL8",
        "outputId": "a7ef7b74-83fc-4d79-cd8c-51bf90359b71"
      },
      "outputs": [
        {
          "name": "stdout",
          "output_type": "stream",
          "text": [
            "Средние схожи, p-value=0.9247529552447145\n",
            "Доверительный интервал: (-1525.5051759834378, 1774.4603174603171)\n"
          ]
        },
        {
          "data": {
            "image/png": "[encoded data removed]",
            "text/plain": [
              "<Figure size 640x480 with 1 Axes>"
            ]
          },
          "metadata": {},
          "output_type": "display_data"
        }
      ],
      "source": [
        "# ваш код\n",
        "def check_pvalue(pvalue: float) -> None:\n",
        "    \"\"\"\n",
        "    Вывод результата по значению p_value\n",
        "    \"\"\"\n",
        "    try:\n",
        "        if pvalue >= 0.05:\n",
        "            print(f'Средние схожи, p-value={pvalue}')\n",
        "        else:\n",
        "            print(f'Средние различны, p-value={pvalue}')\n",
        "    except TypeError as ex:\n",
        "        print(f'message: {ex}')\n",
        "\n",
        "def bootstrap_compare(data1: pd.Series,\n",
        "                      data2: pd.Series,\n",
        "                      function: Callable,\n",
        "                      alpha: float = 0.05,\n",
        "                      count_generate: int = 9999,\n",
        "                      random_state: int = 42) -> tuple:\n",
        "    \"\"\"\n",
        "    Сравнение выборок при помощи Bootstrap\n",
        "    \"\"\"\n",
        "    np.random.seed(random_state)\n",
        "    sample_size = max(len(data1), len(data2))\n",
        "    diff_sample = []\n",
        "\n",
        "    for i in range(count_generate):\n",
        "        sample1 = data1.sample(sample_size, replace=True).values\n",
        "        sample2 = data2.sample(sample_size, replace=True).values\n",
        "\n",
        "        diff = function(sample1 - sample2)\n",
        "        diff_sample.append(diff)\n",
        "\n",
        "    # нижний и верхние квантили\n",
        "    low = alpha / 2\n",
        "    high = 1 - alpha / 2\n",
        "\n",
        "    # интервал\n",
        "    ci = (np.quantile(diff_sample, low), np.quantile(diff_sample, high))\n",
        "\n",
        "    # p-value\n",
        "    # Кумулятивная функция распределения (CDF) распределения вероятностей\n",
        "    # содержит вероятности того, что случайная величина X меньше или равна X\n",
        "    # 0 - в том случае, если разницы нет, среднее должно быть в нуле\n",
        "    p1 = stats.norm.cdf(0, loc=np.mean(diff_sample), scale=np.std(diff_sample))\n",
        "    p2 = 1 - p1\n",
        "    p_value = min(p1, p2) * 2\n",
        "    check_pvalue(p_value)\n",
        "\n",
        "    return diff_sample, ci, p_value\n",
        "\n",
        "diff_sample, ci, p_value = bootstrap_compare(orders_group_a['purchase_mean'],\n",
        "                                             orders_group_b['purchase_mean'],\n",
        "                                             function=np.median)\n",
        "print(\"Доверительный интервал:\", ci)\n",
        "\n",
        "plt.title('Распределение разности группы А и B')\n",
        "sns.kdeplot(diff_sample, fill=True)\n",
        "\n",
        "_, max_ylim = plt.ylim()\n",
        "plt.vlines(ci,\n",
        "           color='red',\n",
        "           ymin=0,\n",
        "           ymax=max_ylim,\n",
        "           linestyle='--',\n",
        "           linewidth=2)\n",
        "plt.vlines(0,\n",
        "           ymin=0,\n",
        "           ymax=max_ylim,\n",
        "           linestyle='--',\n",
        "           linewidth=2)\n",
        "plt.show()"
      ]
    }
  ],
  "metadata": {
    "hide_input": false,
    "kernelspec": {
      "display_name": "Python 3 (ipykernel)",
      "language": "python",
      "name": "python3"
    },
    "language_info": {
      "codemirror_mode": {
        "name": "ipython",
        "version": 3
      },
      "file_extension": ".py",
      "mimetype": "text/x-python",
      "name": "python",
      "nbconvert_exporter": "python",
      "pygments_lexer": "ipython3",
      "version": "3.11.9"
    },
    "toc": {
      "base_numbering": 1,
      "nav_menu": {},
      "number_sections": true,
      "sideBar": true,
      "skip_h1_title": false,
      "title_cell": "Table of Contents",
      "title_sidebar": "Contents",
      "toc_cell": false,
      "toc_position": {
        "height": "calc(100% - 180px)",
        "left": "10px",
        "top": "150px",
        "width": "338.8125px"
      },
      "toc_section_display": true,
      "toc_window_display": false
    },
    "colab": {
      "provenance": [],
      "include_colab_link": true
    }
  },
  "nbformat": 4,
  "nbformat_minor": 0
}